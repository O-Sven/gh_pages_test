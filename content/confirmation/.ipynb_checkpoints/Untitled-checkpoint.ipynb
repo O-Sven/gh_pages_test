{
 "cells": [
  {
   "cell_type": "code",
   "execution_count": 12,
   "metadata": {},
   "outputs": [
    {
     "name": "stdout",
     "output_type": "stream",
     "text": [
      "/home/max-mobile/Dropbox/01_Universität_Wuppertal/00_jobs/00_WiHi_Computersimulation_Brand_Verkehr/DataAnalysis/confirmation\n"
     ]
    }
   ],
   "source": [
    "import numpy as np\n",
    "import subprocess\n",
    "import os"
   ]
  },
  {
   "cell_type": "code",
   "execution_count": 8,
   "metadata": {},
   "outputs": [],
   "source": [
    "mem_list = []\n",
    "members = open(\"participants.txt\", 'r')\n",
    "for line in members:\n",
    "    mem_list.append(line.replace(\"\\n\", \"\"))"
   ]
  },
  {
   "cell_type": "code",
   "execution_count": 9,
   "metadata": {},
   "outputs": [
    {
     "name": "stdout",
     "output_type": "stream",
     "text": [
      "['Herrn Alexander Saubrier', 'Frau Anna Lisa Tscherniewski', 'Herrn Felix Wagmann', 'Herrn Gregor Jäger', 'Herrn Jonathan Moser']\n"
     ]
    }
   ],
   "source": [
    "print(mem_list)"
   ]
  },
  {
   "cell_type": "code",
   "execution_count": 14,
   "metadata": {},
   "outputs": [
    {
     "data": {
      "text/plain": [
       "1"
      ]
     },
     "execution_count": 14,
     "metadata": {},
     "output_type": "execute_result"
    }
   ],
   "source": [
    "#commandLine = subprocess.Popen(['pdflatex', '{0}'.format(file_name_tex)], cwd=os.getcwd())\n",
    "#commandLine.communicate()\n",
    "\n",
    "subprocess.call('rm *log *svg *aux *gz', cwd=os.getcwd(), shell=True)\n",
    "#subprocess.call('rm -r {}'.format(upload_folder), cwd=os.getcwd(), shell=True)"
   ]
  },
  {
   "cell_type": "code",
   "execution_count": null,
   "metadata": {},
   "outputs": [],
   "source": []
  }
 ],
 "metadata": {
  "kernelspec": {
   "display_name": "Python 3",
   "language": "python",
   "name": "python3"
  },
  "language_info": {
   "codemirror_mode": {
    "name": "ipython",
    "version": 3
   },
   "file_extension": ".py",
   "mimetype": "text/x-python",
   "name": "python",
   "nbconvert_exporter": "python",
   "pygments_lexer": "ipython3",
   "version": "3.6.7"
  }
 },
 "nbformat": 4,
 "nbformat_minor": 2
}
