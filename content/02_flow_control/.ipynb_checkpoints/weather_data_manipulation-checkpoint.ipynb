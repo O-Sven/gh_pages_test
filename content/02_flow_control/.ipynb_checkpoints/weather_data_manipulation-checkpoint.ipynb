{
 "cells": [
  {
   "cell_type": "code",
   "execution_count": 1,
   "metadata": {},
   "outputs": [],
   "source": [
    "import os                                                                   \n",
    "import glob \n"
   ]
  },
  {
   "cell_type": "code",
   "execution_count": 13,
   "metadata": {},
   "outputs": [
    {
     "name": "stdout",
     "output_type": "stream",
     "text": [
      "weather_data/Wetterstation_Haspel_2018-11-12.log\n",
      "weather_data/Wetterstation_Haspel_2018-11-09.log\n",
      "weather_data/Wetterstation_Haspel_2018-11-11.log\n"
     ]
    }
   ],
   "source": [
    "for file in list(glob.glob('*.log')): \n",
    "    print(file)\n",
    "\n",
    "    data_raw = open(file, 'rb')\n",
    "\n",
    "    date_check_0 = 0\n",
    "\n",
    "    for line in data_raw:\n",
    "        line_data = line.strip()\n",
    "        line_data = str(line_data).split(';')\n",
    "        if len(line_data) <= 2:\n",
    "            continue\n",
    "        date = line_data[0].replace('\"','').replace('b','').replace(\"'\",\"\")\n",
    "        temp = line_data[-1].replace(',','.').replace(\"'\",\"\")\n",
    "\n",
    "        date_check_1 = date\n",
    "        if date_check_1 != date_check_0:\n",
    "            data_new = open(\"weather_data/weather_per_day/{}.log\".format(date.replace(\".\",\"_\")), 'w+')\n",
    "\n",
    "        line_data_new = date + \", \" + temp + \"\\n\"\n",
    "        data_new.write(line_data_new)"
   ]
  },
  {
   "cell_type": "code",
   "execution_count": null,
   "metadata": {},
   "outputs": [],
   "source": []
  }
 ],
 "metadata": {
  "kernelspec": {
   "display_name": "Python 3",
   "language": "python",
   "name": "python3"
  },
  "language_info": {
   "codemirror_mode": {
    "name": "ipython",
    "version": 3
   },
   "file_extension": ".py",
   "mimetype": "text/x-python",
   "name": "python",
   "nbconvert_exporter": "python",
   "pygments_lexer": "ipython3",
   "version": "3.6.7"
  }
 },
 "nbformat": 4,
 "nbformat_minor": 2
}
