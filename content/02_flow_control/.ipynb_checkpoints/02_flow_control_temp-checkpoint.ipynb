{
 "cells": [
  {
   "cell_type": "code",
   "execution_count": null,
   "metadata": {},
   "outputs": [],
   "source": [
    "a = list(range(10, 20, 2))\n",
    "print(a)"
   ]
  },
  {
   "cell_type": "code",
   "execution_count": null,
   "metadata": {},
   "outputs": [],
   "source": [
    "for i in range(20):\n",
    "    print(i)"
   ]
  },
  {
   "cell_type": "code",
   "execution_count": null,
   "metadata": {},
   "outputs": [],
   "source": [
    "for i in range(21):\n",
    "    print(\"{:2d}^2 = {:3d}\".format(i, i**2))"
   ]
  },
  {
   "cell_type": "code",
   "execution_count": null,
   "metadata": {},
   "outputs": [],
   "source": [
    "data_file = open('summe_elements.txt', 'r')\n",
    "partial_sum = 0\n",
    "for raw_line in data_file:\n",
    "    print(\"===== next line =====\")\n",
    "    line = raw_line.strip()\n",
    "    print(\"raw content of line: '{}'\".format(line))\n",
    "    summand = float(line)\n",
    "    print(\"convert to number: {:12.4f}\".format(summand))\n",
    "    partial_sum = partial_sum + summand\n",
    "    print(\"current sum: {:12.4f}\".format(partial_sum))\n",
    "    print(\"\")\n",
    "    \n",
    "print(\"total sum: {:12.4f}\".format(partial_sum))"
   ]
  },
  {
   "cell_type": "markdown",
   "metadata": {},
   "source": [
    "Obiges Beispiel mit Check\n",
    "Dann Bevölkerungsdaten, mit split \n",
    "einführung module\n",
    "beispiel mit glob inhalt von verzeichnissen, und dann nur 'wetterdaten'\n",
    "Dann Wetterdaten, hier multiple dateien mit glob modul? von tadjo -> mittelwert pro tag, zielverzeichniss\n",
    "\n",
    "Optional: vollen Bevölkerungsdaten -> summe menschen pro jahr"
   ]
  },
  {
   "cell_type": "markdown",
   "metadata": {},
   "source": [
    "module time -> beispiel zur konvertion\n",
    "aufgabe aus wetterdaten -> uhrzeit einlesen, jetzt nur mittelwert z.b. zwischen 08:00 und 17:00"
   ]
  }
 ],
 "metadata": {
  "kernelspec": {
   "display_name": "Python 3",
   "language": "python",
   "name": "python3"
  },
  "language_info": {
   "codemirror_mode": {
    "name": "ipython",
    "version": 3
   },
   "file_extension": ".py",
   "mimetype": "text/x-python",
   "name": "python",
   "nbconvert_exporter": "python",
   "pygments_lexer": "ipython3",
   "version": "3.6.7"
  }
 },
 "nbformat": 4,
 "nbformat_minor": 2
}
